{
  "nbformat": 4,
  "nbformat_minor": 0,
  "metadata": {
    "colab": {
      "name": "IST210.ipynb",
      "provenance": [],
      "authorship_tag": "ABX9TyNzuQiUxqdug/UjZ8H6E0dW",
      "include_colab_link": true
    },
    "kernelspec": {
      "name": "python3",
      "display_name": "Python 3"
    }
  },
  "cells": [
    {
      "cell_type": "markdown",
      "metadata": {
        "id": "view-in-github",
        "colab_type": "text"
      },
      "source": [
        "<a href=\"https://colab.research.google.com/github/YuruiNiu/IST210/blob/master/IST210.ipynb\" target=\"_parent\"><img src=\"https://colab.research.google.com/assets/colab-badge.svg\" alt=\"Open In Colab\"/></a>"
      ]
    },
    {
      "cell_type": "code",
      "metadata": {
        "id": "KrR1MJmYzyli",
        "colab_type": "code",
        "colab": {
          "base_uri": "https://localhost:8080/",
          "height": 34
        },
        "outputId": "1ff3d0b5-bf74-472c-fdb6-9e375bdee842"
      },
      "source": [
        "2+2\n",
        "\n"
      ],
      "execution_count": 2,
      "outputs": [
        {
          "output_type": "execute_result",
          "data": {
            "text/plain": [
              "4"
            ]
          },
          "metadata": {
            "tags": []
          },
          "execution_count": 2
        }
      ]
    },
    {
      "cell_type": "markdown",
      "metadata": {
        "id": "VTiM53q_0C8J",
        "colab_type": "text"
      },
      "source": [
        "New start\n"
      ]
    },
    {
      "cell_type": "markdown",
      "metadata": {
        "id": "bdQVX0fl0tYg",
        "colab_type": "text"
      },
      "source": [
        "# This is a header"
      ]
    },
    {
      "cell_type": "code",
      "metadata": {
        "id": "awT0c_EFz6Bs",
        "colab_type": "code",
        "colab": {}
      },
      "source": [
        ""
      ],
      "execution_count": 0,
      "outputs": []
    },
    {
      "cell_type": "markdown",
      "metadata": {
        "id": "Qs-6xyMl4MYZ",
        "colab_type": "text"
      },
      "source": [
        "![alt text](https://avatars3.githubusercontent.com/u/59843830?s=460&v=4)"
      ]
    }
  ]
}