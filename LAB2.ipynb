{
  "nbformat": 4,
  "nbformat_minor": 0,
  "metadata": {
    "colab": {
      "name": "Untitled1.ipynb",
      "provenance": [],
      "authorship_tag": "ABX9TyMAbIUQ1XGzcwNPcrJc6htF",
      "include_colab_link": true
    },
    "kernelspec": {
      "name": "python3",
      "display_name": "Python 3"
    }
  },
  "cells": [
    {
      "cell_type": "markdown",
      "metadata": {
        "id": "view-in-github",
        "colab_type": "text"
      },
      "source": [
        "<a href=\"https://colab.research.google.com/github/YuruiNiu/IST210/blob/master/LAB2.ipynb\" target=\"_parent\"><img src=\"https://colab.research.google.com/assets/colab-badge.svg\" alt=\"Open In Colab\"/></a>"
      ]
    },
    {
      "cell_type": "code",
      "metadata": {
        "id": "0Gm0XsJ7dzfL",
        "colab_type": "code",
        "colab": {}
      },
      "source": [
        ""
      ],
      "execution_count": 0,
      "outputs": []
    },
    {
      "cell_type": "markdown",
      "metadata": {
        "id": "VynXqj8E1gRP",
        "colab_type": "text"
      },
      "source": [
        "# Description\n"
      ]
    },
    {
      "cell_type": "markdown",
      "metadata": {
        "id": "BrHweWrX1v9T",
        "colab_type": "text"
      },
      "source": [
        "Firstly, Pet store enclosures pets and pets food. At the same time, customer can choose to buy some pets food. For the relationship between customers and pets purchase, pets food, and pets adoption, I add one to many optional cardinality. Because customers are able to purchase or adopt pets and purchase pets food. Also, customers can decide whether to buy or adopt pets or not and how many pets. For the relationship between enclosure and, pets and pets food, I add one to many optional cardinality, because pet store can enclosure pets and pets food or not. For the relationship between pets, and pet adoption and pet purchase, I add many to optional many because there are many pets and some or none of these pets will be purchased or adopted.\n",
        "\n",
        "The host of the pets store, using encloser ID for identity, enclosure these different types and sizes pets. Pet ID is the primary key of pets. Adoption, purchase, weight, gender, and price are all important key terms for pets. Pets include both of pets purchase and pets adoption. For each of them, it is essential to have the pets weights, main type, gender (also price for purchase) information.  \n",
        "\n",
        "Furthermore, costumer’s first name, last name, home address, and phone number are required to fill out customer information and background. Meanwhile, whether the costumer is in the loyalty program also important and loyalty program is a key term.\n",
        "\n",
        "For pets food, food transaction number is the primary key cause it is the necessary evidence of purchase detail. At the same time, the expire time, pets type, and price are significant attributes for customers to make their purchase decision.\n",
        "\n"
      ]
    },
    {
      "cell_type": "markdown",
      "metadata": {
        "id": "geeE-pfP1cVG",
        "colab_type": "text"
      },
      "source": [
        "![image.png]()"
      ]
    },
    {
      "cell_type": "markdown",
      "metadata": {
        "id": "QgUR-ES11X8V",
        "colab_type": "text"
      },
      "source": [
        "![alt text](https://github.com/YuruiNiu/IST210/blob/master/Pet%20(1).png?raw=true)"
      ]
    }
  ]
}